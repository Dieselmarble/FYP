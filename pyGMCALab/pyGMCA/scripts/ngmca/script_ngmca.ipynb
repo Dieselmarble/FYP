{
 "cells": [
  {
   "cell_type": "markdown",
   "metadata": {},
   "source": [
    "# Sparse NMF with nGMCA"
   ]
  },
  {
   "cell_type": "code",
   "execution_count": 1,
   "metadata": {},
   "outputs": [],
   "source": [
    "# Useful packages\n",
    "\n",
    "import sys\n",
    "PYGMCALAB_PATH = \"PLEASE INSERT THE PATH OF THE PYGMCALab FOLDER\"\n",
    "sys.path.insert(1,PYGMCALAB_PATH)\n",
    "\n",
    "import numpy as np\n",
    "# import matplotlib.image as mpimg\n",
    "\n",
    "# from pyngmca import proximal\n",
    "from pyGMCA.bss.ngmca import base as bss\n",
    "#from pygmca.pyredwave import RedWave\n",
    "\n",
    "%matplotlib inline\n",
    "import matplotlib.pyplot as plt\n",
    "font = {'family' : 'normal',\n",
    "        'weight' : 'bold',\n",
    "        'size'   : 12}\n",
    "plt.rcParams[\"figure.figsize\"] = (20,10)\n",
    "plt.rc('font', **font)"
   ]
  },
  {
   "cell_type": "markdown",
   "metadata": {},
   "source": [
    "### create sparse data or synthetic nmr data"
   ]
  },
  {
   "cell_type": "code",
   "execution_count": null,
   "metadata": {},
   "outputs": [],
   "source": [
    "nmr = False\n",
    "data_settings = {}\n",
    "np.random.seed(33) #32\n",
    "if nmr:\n",
    "    data_settings['rows'] = 24\n",
    "    data_settings['rank'] = 12\n",
    "    data_settings['dB'] = 40\n",
    "    reference = bss.tools.create_realistic_nmr_mixtures(data_settings)\n",
    "else:\n",
    "    data_settings['rows'] = 100\n",
    "    data_settings['rank'] = 10\n",
    "    data_settings['columns'] = 200\n",
    "    data_settings['dB'] = 10\n",
    "    data_settings['bernoulli_S'] = 0.08\n",
    "    data_settings['alpha_S'] = 1\n",
    "    data_settings['verbose'] = 1\n",
    "    reference = bss.tools.create_sparse_data(data_settings)\n",
    "#plt.imshow(reference['data'], interpolation='nearest')\n",
    "\n",
    "# create the noisy data\n",
    "Y = reference['data'] + reference['noise']\n",
    "\n",
    "# evaluation function (will be called at each iteration of the algorithm)\n",
    "criteria_rec = lambda data: bss.tools.evaluation(data, reference)[0]\n",
    "# sparsity parameter recording function (\"\"\")\n",
    "lambda_rec = lambda data: np.max(data['lambda'])"
   ]
  },
  {
   "cell_type": "markdown",
   "metadata": {},
   "source": [
    "### first method for using nGMCA"
   ]
  },
  {
   "cell_type": "code",
   "execution_count": null,
   "metadata": {},
   "outputs": [],
   "source": [
    "alg = bss.algos.Ngmca()\n",
    "\n",
    "parameters = {'data': Y,\n",
    "              'rank': data_settings['rank'],\n",
    "              'verbose': 1,\n",
    "              'maximum_iteration': 300,\n",
    "              'S_parameters': {'tau_mad': 1},\n",
    "              'recording_functions': {'lambda': lambda_rec,\n",
    "                                      'criteria': criteria_rec}}\n",
    "# display during algorithm\n",
    "parameters['display_function'] = \\\n",
    "    lambda data: plt.plot(data['factorization'].S.T)\n",
    "parameters['display_time'] = 1\n",
    "\n",
    "# set a particular initialization (for repeatability)\n",
    "np.random.seed(58)\n",
    "# launch the algorithm\n",
    "result = alg.run(parameters)\n",
    "# evaluate the result\n",
    "crit = bss.tools.evaluation(result, reference, True)[0]"
   ]
  },
  {
   "cell_type": "markdown",
   "metadata": {},
   "source": [
    "### second method for using nGMCA"
   ]
  },
  {
   "cell_type": "code",
   "execution_count": null,
   "metadata": {},
   "outputs": [],
   "source": [
    "# updaters are classes which are called for the updates of\n",
    "# A and S. One can choose between different types of updaters\n",
    "alg = bss.algos.Framework()\n",
    "lambda_rec = lambda data: np.max(data['S_updater'].lambdas)\n",
    "parameters_upd = {'data': Y,\n",
    "                  'rank': data_settings['rank'],\n",
    "                  'verbose': 1,\n",
    "                  'maximum_iteration': 300,\n",
    "                  'S_updater': bss.algos.SparseUpdater(tau_mad=1),\n",
    "                  'A_updater': bss.algos.SparseUpdater(tau_mad=0),\n",
    "                  'recording_functions': {'lambda': lambda_rec,\n",
    "                                          'criteria': criteria_rec}}\n",
    "parameters_upd['display_function'] =\\\n",
    "    lambda data: plt.plot(data['factorization'].S.T)\n",
    "parameters_upd['display_time'] = 1\n",
    "\n",
    "np.random.seed(58)\n",
    "result_upd = alg.run(parameters_upd)\n",
    "crit = bss.tools.evaluation(result_upd, reference, True)[0]"
   ]
  },
  {
   "cell_type": "markdown",
   "metadata": {},
   "source": [
    "### Displaying the results"
   ]
  },
  {
   "cell_type": "code",
   "execution_count": 7,
   "metadata": {},
   "outputs": [],
   "source": [
    "#%% visualization of the evoluation of the SDR_S\n",
    "plt.clf()\n",
    "plt.plot(result['recording']['SDR_S'])\n",
    "plt.plot(result_upd['recording']['SDR_S'])\n",
    "\n",
    "#%% visualization of the evoluation of lambda\n",
    "plt.clf()\n",
    "plt.plot(result['recording']['lambda'])\n",
    "plt.plot(result_upd['recording']['lambda'])\n",
    "\n",
    "#%% decompostion\n",
    "plt.clf()\n",
    "(criteria, decomp) = bss.tools.evaluation(result, reference, 1)\n",
    "plt.plot(decomp['interferences'])"
   ]
  },
  {
   "cell_type": "markdown",
   "metadata": {},
   "source": [
    "### Good things to know about the GMCA and AMCA algorithms\n",
    "\n",
    "Both algorithms basically run as follows:\n",
    "\n",
    "Rg = gmca.GMCA(X0,n=n) or Ra = amca.AMCA(X0,n=n)\n",
    "\n",
    "Where:\n",
    "\n",
    "    - X0 is a m x t matrix, that is composed of m observations of t samples; should already be expressed in the sparse domain\n",
    "    - n is the number of sources to be estimated\n",
    "    \n",
    "The output is a dictionary with entries:\n",
    "\n",
    "    - \"sources\" is the n x t matrix of estimated sources\n",
    "    - \"mixmat\" is the m x n mixing matrix\n",
    "    - \"weights\" : for AMCA, these are the estimated sample weights\n",
    "    \n",
    "Extra parameters are:\n",
    "\n",
    "    - UseP : thresholding strategy\n",
    "           > 0 is the standard k-mad threshold \n",
    "           > 1 is based on the support of the estimated sources, which is increased at each iteration\n",
    "           > 2 same as 1 but adapted to very sparse sources (e.g. spiky sources)\n",
    "    - maxts : initial value of k for UseP = 0\n",
    "    - mints : final value of k\n",
    "    - nmax : number of iterations\n",
    "    - L0 : if set to 1, implements a hard rather than soft-thresholding\n",
    "    - q_f (in AMCA) : final weight parameter\n",
    "    - Aposit : if set to True, imposes the positivity of the mixing matrix\n",
    "    - BlockSize : block size in case a block-based optimization is performed\n",
    "    - NoiseStd : vector of noise std per observation\n",
    "    - IndNoise : vectors of indices that indicates which samples are used to estimate the noise level\n",
    "    - Kmax : max L0 norm for the sources\n",
    "    - AInit : initial point for A\n",
    "    - Init : is set to 0, random initialization; if 1, PCA-based\n",
    "    - tol : upper limit on the stopping criterion\n"
   ]
  },
  {
   "cell_type": "markdown",
   "metadata": {},
   "source": [
    "## Comparing GMCA and AMCA when sparsity is enforced in the sample domain\n",
    "### Evolution of the mixing matrix criterion when the sparsity level varies"
   ]
  },
  {
   "cell_type": "code",
   "execution_count": 6,
   "metadata": {},
   "outputs": [
    {
     "name": "stderr",
     "output_type": "stream",
     "text": [
      "/Users/jbobin/Documents/Python/LENA_DEVL/Toolbox/BSS/pyGMCALab/pyGMCA/common/utils.py:388: RuntimeWarning: invalid value encountered in arccos\n",
      "  Q = abs(np.arccos(np.sum(gA0*gA,axis=0))*180./np.pi)\n"
     ]
    },
    {
     "data": {
      "text/plain": [
       "<matplotlib.text.Text at 0x10a747e50>"
      ]
     },
     "execution_count": 6,
     "metadata": {},
     "output_type": "execute_result"
    },
    {
     "name": "stderr",
     "output_type": "stream",
     "text": [
      "/opt/local/Library/Frameworks/Python.framework/Versions/2.7/lib/python2.7/site-packages/matplotlib/font_manager.py:1297: UserWarning: findfont: Font family [u'normal'] not found. Falling back to DejaVu Sans\n",
      "  (prop.get_family(), self.defaultFamily[fontext]))\n"
     ]
    },
    {
     "data": {
      "image/png": "[encoded data removed]",
      "text/plain": [
       "<matplotlib.figure.Figure at 0x10a184150>"
      ]
     },
     "metadata": {},
     "output_type": "display_data"
    }
   ],
   "source": [
    "n = 4\n",
    "m = 4\n",
    "t = 2048\n",
    "p1 = 0.1\n",
    "sigma1 = 4\n",
    "pval = np.power(10,np.linspace(-2,-0.7,5))\n",
    "#\n",
    "C_G_sparse_level = np.zeros((5,N_MC))\n",
    "C_A_sparse_level = np.zeros((5,N_MC))\n",
    "#\n",
    "for It_MC in range(0,N_MC):\n",
    "    for R_p in range(0,5):\n",
    "        p = pval[R_p]\n",
    "        X,X0,A0,S0,N,sigma_noise,kern = bu.Make_Experiment_Coherent(n_s=n,n_obs=m,t_samp=t,w=0.1,noise_level=120,dynamic=0,sigma1=sigma1,p1=p1,ptot=p)\n",
    "        Rg = gmca.GMCA(X0,n=n,mints=0,nmax=500,L0=0,UseP=1)\n",
    "        crit = bu.EvalCriterion(A0,S0,Rg[\"mixmat\"],Rg[\"sources\"])\n",
    "        C_G_sparse_level[R_p,It_MC] = crit[\"ca_med\"]\n",
    "        Ra = amca.AMCA(X0,n,mints=0,nmax=500,q_f = 0.1,L0=1,UseP=1)\n",
    "        crit = bu.EvalCriterion(A0,S0,Ra[\"mixmat\"],Ra[\"sources\"])\n",
    "        C_A_sparse_level[R_p,It_MC] = crit[\"ca_med\"]\n",
    "#\n",
    "#%% PLOTTING THE RESULTS\n",
    "plt.figure(0)\n",
    "pval = np.power(10,np.linspace(-2,-0.7,5))\n",
    "plt.title('Mixing matrix criterion as a function of the sparsity level')\n",
    "tempG = np.median(C_G_sparse_level,1)\n",
    "tempA = np.median(C_A_sparse_level,1)\n",
    "Mrange = 5.**np.max([np.max(tempA),np.max(tempG)])\n",
    "mrange = 0.2*np.min([np.min(tempA),np.min(tempG)])\n",
    "plt.semilogy(pval,tempG,'k8',alpha=0.75)\n",
    "plt.semilogy(pval,tempA,'ro',alpha=0.75)\n",
    "plt.axis([0,1.1*np.max(pval), mrange,Mrange])\n",
    "plt.xlabel(\"Sparsity level\")\n",
    "plt.ylabel(\"Median mixing matrix criterion\")"
   ]
  },
  {
   "cell_type": "markdown",
   "metadata": {},
   "source": [
    "### Evolution of the mixing matrix criterion when the correlation level varies"
   ]
  },
  {
   "cell_type": "code",
   "execution_count": null,
   "metadata": {},
   "outputs": [],
   "source": [
    "n = 4\n",
    "m = 4\n",
    "t =2048\n",
    "p1 = 0.1\n",
    "sigma1 = 4\n",
    "p = 0.05\n",
    "pval = np.power(10,np.linspace(-2,np.log10(0.95),10))\n",
    "#\n",
    "C_G_corr_level = np.zeros((10,N_MC))\n",
    "C_A_corr_level = np.zeros((10,N_MC))\n",
    "#\n",
    "for It_MC in range(0,N_MC):\n",
    "    for R_p in range(0,10):\n",
    "        p1 = pval[R_p]\n",
    "        X,X0,A0,S0,N,sigma_noise,kern = bu.Make_Experiment_Coherent(n_s=n,n_obs=m,t_samp=t,w=0.1,noise_level=120,dynamic=0,sigma1=sigma1,p1=p1,ptot=p)\n",
    "        Rg = gmca.GMCA(X0,n=n,mints=0,nmax=500,L0=0,UseP=1)\n",
    "        crit = bu.EvalCriterion(A0,S0,Rg[\"mixmat\"],Rg[\"sources\"])\n",
    "        C_G_corr_level[R_p,It_MC] = crit[\"ca_med\"]\n",
    "        Ra = amca.AMCA(X0,n,mints=0,nmax=500,q_f = 0.1,L0=1,UseP=1)\n",
    "        crit = bu.EvalCriterion(A0,S0,Ra[\"mixmat\"],Ra[\"sources\"])\n",
    "        C_A_corr_level[R_p,It_MC] = crit[\"ca_med\"]\n",
    "#\n",
    "#%% PLOTTING THE RESULTS\n",
    "plt.figure(1)\n",
    "pval = np.power(10,np.linspace(-2,np.log10(0.95),10))\n",
    "plt.title('Mixing matrix criterion as a function of the correlation level')\n",
    "tempG = np.median(C_G_corr_level,1)\n",
    "tempA = np.median(C_A_corr_level,1)\n",
    "Mrange = 5.**np.max([np.max(tempA),np.max(tempG)])\n",
    "mrange = 0.2*np.min([np.min(tempA),np.min(tempG)])\n",
    "plt.semilogy(pval,tempG,'k8',alpha=0.75)\n",
    "plt.semilogy(pval,tempA,'ro',alpha=0.75)\n",
    "plt.axis([0,1.1*np.max(pval), mrange,Mrange])\n",
    "plt.xlabel(\"Correlation level\")\n",
    "plt.ylabel(\"Median mixing matrix criterion\")"
   ]
  },
  {
   "cell_type": "markdown",
   "metadata": {},
   "source": [
    "### Evolution of the mixing matrix criterion when the dynamic range varies"
   ]
  },
  {
   "cell_type": "code",
   "execution_count": null,
   "metadata": {},
   "outputs": [],
   "source": [
    "n = 4\n",
    "m = 4\n",
    "t = 2048\n",
    "p1 = 0.3\n",
    "sigma1 = 4\n",
    "p = 0.1\n",
    "pval = np.linspace(0,4,10)\n",
    "#\n",
    "C_G_dyn_level = np.zeros((10,N_MC))\n",
    "C_A_dyn_level = np.zeros((10,N_MC))\n",
    "#\n",
    "for It_MC in range(0,N_MC):\n",
    "    for R_p in range(0,10):\n",
    "        dyna = pval[R_p]\n",
    "        X,X0,A0,S0,N,sigma_noise,kern = bu.Make_Experiment_Coherent(n_s=n,n_obs=m,t_samp=t,w=0.1,noise_level=120,dynamic=dyna,sigma1=sigma1,p1=p1,ptot=p)\n",
    "        Rg = gmca.GMCA(X0,n=n,mints=0,nmax=500,L0=0,UseP=1)\n",
    "        crit = bu.EvalCriterion(A0,S0,Rg[\"mixmat\"],Rg[\"sources\"])\n",
    "        C_G_dyn_level[R_p,It_MC] = crit[\"ca_med\"]\n",
    "        Ra = amca.AMCA(X0,n,mints=0,nmax=500,q_f = 0.1,L0=1,UseP=1)\n",
    "        crit = bu.EvalCriterion(A0,S0,Ra[\"mixmat\"],Ra[\"sources\"])\n",
    "        C_A_dyn_level[R_p,It_MC] = crit[\"ca_med\"]\n",
    "#\n",
    "#%% PLOTTING THE RESULTS\n",
    "plt.figure(2)\n",
    "pval = np.linspace(0,6,10)\n",
    "plt.title('Mixing matrix criterion as a function of the dynamic')\n",
    "tempG = np.median(C_G_dyn_level,1)\n",
    "tempA = np.median(C_A_dyn_level,1)\n",
    "Mrange = 5.**np.max([np.max(tempA),np.max(tempG)])\n",
    "mrange = 0.2*np.min([np.min(tempA),np.min(tempG)])\n",
    "plt.semilogy(pval,tempG,'k8',alpha=0.75)\n",
    "plt.semilogy(pval,tempA,'ro',alpha=0.75)\n",
    "plt.axis([0,1.1*np.max(pval), mrange,Mrange])\n",
    "plt.xlabel(\"Dynamic range\")\n",
    "plt.ylabel(\"Median mixing matrix criterion\")"
   ]
  }
 ],
 "metadata": {
  "kernelspec": {
   "display_name": "Python 2",
   "language": "python",
   "name": "python2"
  },
  "language_info": {
   "codemirror_mode": {
    "name": "ipython",
    "version": 2
   },
   "file_extension": ".py",
   "mimetype": "text/x-python",
   "name": "python",
   "nbconvert_exporter": "python",
   "pygments_lexer": "ipython2",
   "version": "2.7.14"
  }
 },
 "nbformat": 4,
 "nbformat_minor": 2
}
