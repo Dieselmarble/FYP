{
 "cells": [
  {
   "cell_type": "markdown",
   "metadata": {},
   "source": [
    "# Robust Blind Source Separation with rGMCA\n",
    "\n",
    "\n",
    "The following script performs a robustness test on different robust BSS techniques similarly\n",
    "to the experiments presented in 'Unsupervised separation of sparse sources in the\n",
    "presence of outliers', C.Chenot and J.Bobin.\n",
    "Structure of the script:\n",
    "-the parameters are chosen in the file 'parameters' (data generation, algorithms' parameters, Monte-Carlo parameters, verbose..)\n",
    "-the data are generated via the file 'data', according to these parameters\n",
    "- the algorithms GMCA, AMCA, rGMCA, rAMCA, PCP+GMCA, and the minimization of the beta-divergence perform the BSS problem\n",
    "- the results are displayed and saved.\n",
    "\n",
    "The following code can be used for Monte-Carlo/benchmark simulations."
   ]
  },
  {
   "cell_type": "code",
   "execution_count": 1,
   "metadata": {},
   "outputs": [],
   "source": [
    "# Useful packages\n",
    "\n",
    "import sys\n",
    "PYGMCALAB_PATH = \"PLEASE INSERT THE PATH OF THE PYGMCALab FOLDER\"\n",
    "sys.path.insert(1,PYGMCALAB_PATH)\n",
    "\n",
    "import numpy as np\n",
    "import pickle\n",
    "import matplotlib.pyplot as plt\n",
    "from scipy.fftpack import dct, idct\n",
    "\n",
    "from pyGMCA.bss.rgmca.data import sources, gaussianNoise, outliers, mixingMatrix\n",
    "from pyGMCA.bss.rgmca.errors import errors\n",
    "from pyGMCA.bss.rgmca.parameters import dS, pS\n",
    "from pyGMCA.bss.rgmca.AGMCA import  rAMCA, AMCA, rGMCA,mad\n",
    "from pyGMCA.bss.rgmca.BetaD_ICA import BetaD_ICA\n",
    "from pyGMCA.bss.rgmca.rpcaAlgo import pcpGMCA\n",
    "\n",
    "%matplotlib inline\n",
    "font = {'family' : 'normal',\n",
    "        'weight' : 'bold',\n",
    "        'size'   : 12}\n",
    "plt.rcParams[\"figure.figsize\"] = (20,10)\n",
    "plt.rc('font', **font)\n"
   ]
  },
  {
   "cell_type": "markdown",
   "metadata": {},
   "source": [
    "#### Set the number of this run"
   ]
  },
  {
   "cell_type": "code",
   "execution_count": 2,
   "metadata": {},
   "outputs": [],
   "source": [
    "\n",
    "numLancement=9 #otherwise\n",
    "\n",
    "#Set the parameters#\n",
    "numberParam=pS['nbreParam']#number of varying parameters\n",
    "numberIter=pS['nbreIter']#number of runs for each parameters\n",
    "\n",
    "\n",
    "#Build the matrices which will contain the different errors#\n",
    "\n",
    "angle5A=np.zeros((numberParam,numberIter))#for AMCA#\n",
    "deltaA=np.zeros((numberParam,numberIter))\n",
    "\n",
    "angle5G=np.zeros((numberParam,numberIter))#for GMCA#\n",
    "deltaG=np.zeros((numberParam,numberIter))\n",
    "\n",
    "angle5rA=np.zeros((numberParam,numberIter))#for rAMCA\n",
    "deltarA=np.zeros((numberParam,numberIter))\n",
    "\n",
    "angle5rG=np.zeros((numberParam,numberIter))#for rGMCA\n",
    "deltarG=np.zeros((numberParam,numberIter))\n",
    "\n",
    "angle5B=np.zeros((numberParam,numberIter))#for the beta-div.\n",
    "deltaB=np.zeros((numberParam,numberIter))\n",
    "\n",
    "angle5P=np.zeros((numberParam,numberIter))# for PCP+GMCA\n",
    "deltaP=np.zeros((numberParam,numberIter))\n"
   ]
  },
  {
   "cell_type": "code",
   "execution_count": 3,
   "metadata": {},
   "outputs": [
    {
     "name": "stdout",
     "output_type": "stream",
     "text": [
      "Start for the  1 th parameter\n",
      "Start for the  1 th job\n",
      "Errors AMCA:  8.0 recovered columns,  0.00013703325718  for DeltaA\n",
      "Errors GMCA:  0.0 recovered columns,  0.00109233086848  for DeltaA\n"
     ]
    },
    {
     "name": "stderr",
     "output_type": "stream",
     "text": [
      "/Users/jbobin/Documents/Python/LENA_DEVL/Toolbox/BSS/pyGMCALab/pyGMCA/bss/rgmca/AGMCA.py:136: RuntimeWarning: invalid value encountered in arccos\n",
      "  angle=np.arccos(np.abs(np.sum(A_*A,axis=0)))*180/np.pi\n",
      "/opt/local/Library/Frameworks/Python.framework/Versions/2.7/lib/python2.7/site-packages/numpy/linalg/linalg.py:1487: RuntimeWarning: invalid value encountered in true_divide\n",
      "  return s[..., 0]/s[..., -1]\n"
     ]
    },
    {
     "name": "stdout",
     "output_type": "stream",
     "text": [
      "rAMCA terminates in  2  iterations\n",
      "Errors rAMCA:  8.0 recovered columns,  0.00013393372452  for DeltaA\n",
      "rGMCA terminates in  5  iterations\n",
      "Errors rGMCA:  8.0 recovered columns,  0.000308156661347  for DeltaA\n"
     ]
    },
    {
     "name": "stderr",
     "output_type": "stream",
     "text": [
      "/Users/jbobin/Documents/Python/LENA_DEVL/Toolbox/BSS/pyGMCALab/pyGMCA/bss/rgmca/rpcaAlgo.py:81: RuntimeWarning: divide by zero encountered in double_scalars\n",
      "  convO=np.linalg.norm(O-O_)/np.linalg.norm(O_) #convergence outliers\n",
      "/Users/jbobin/Documents/Python/LENA_DEVL/Toolbox/BSS/pyGMCALab/pyGMCA/bss/rgmca/rpcaAlgo.py:82: RuntimeWarning: invalid value encountered in double_scalars\n",
      "  convL=np.linalg.norm(L-L_)/np.linalg.norm(L_)# convergence low-rank term\n",
      "/Users/jbobin/Documents/Python/LENA_DEVL/Toolbox/BSS/pyGMCALab/pyGMCA/bss/rgmca/AGMCA.py:248: RuntimeWarning: divide by zero encountered in divide\n",
      "  W = 1./np.linalg.norm(X,axis=0,ord=1)**2;#Penalize the largest samples at the first iteration\n",
      "/Users/jbobin/Documents/Python/LENA_DEVL/Toolbox/BSS/pyGMCALab/pyGMCA/bss/rgmca/AGMCA.py:249: RuntimeWarning: invalid value encountered in divide\n",
      "  W/=np.max(W)\n"
     ]
    },
    {
     "name": "stdout",
     "output_type": "stream",
     "text": [
      "PCP+GMCA, current best error: 0.228355110488 at index 0 th index in  159 iterations\n"
     ]
    },
    {
     "name": "stderr",
     "output_type": "stream",
     "text": [
      "/Users/jbobin/Documents/Python/LENA_DEVL/Toolbox/BSS/pyGMCALab/pyGMCA/bss/rgmca/rpcaAlgo.py:82: RuntimeWarning: divide by zero encountered in double_scalars\n",
      "  convL=np.linalg.norm(L-L_)/np.linalg.norm(L_)# convergence low-rank term\n"
     ]
    },
    {
     "name": "stdout",
     "output_type": "stream",
     "text": [
      "PCP+GMCA, current best error: 0.0905023487127 at index 3 th index in  320 iterations\n",
      "PCP+GMCA, current best error: 0.0230536876368 at index 4 th index in  259 iterations\n",
      "PCP+GMCA, current best error: 0.00767638404988 at index 5 th index in  179 iterations\n",
      "PCP+GMCA, current best error: 0.00190121184162 at index 6 th index in  146 iterations\n",
      "PCP+GMCA, current best error: 0.000537884266097 at index 7 th index in  102 iterations\n",
      "PCP+GMCA, current best error: 0.000291494265277 at index 8 th index in  95 iterations\n",
      "PCP+GMCA, current best error: 0.000165081714175 at index 9 th index in  81 iterations\n",
      "PCP+GMCA, current best error: 0.000115037975616 at index 10 th index in  65 iterations\n",
      "PCP+GMCA, current best error: 0.000109873073472 at index 11 th index in  57 iterations\n",
      "PCP+GMCA, current best error: 0.000104189673067 at index 12 th index in  55 iterations\n",
      "Errors PCP+GMCA:  8.0 recovered columns,  0.000104189673067  for DeltaA\n"
     ]
    },
    {
     "name": "stderr",
     "output_type": "stream",
     "text": [
      "/Users/jbobin/Documents/Python/LENA_DEVL/Toolbox/BSS/pyGMCALab/pyGMCA/bss/rgmca/BetaD_ICA.py:95: RuntimeWarning: divide by zero encountered in long_scalars\n",
      "  prev=np.abs(fx-fxO)/np.abs(fxO) #cost function decrease\n",
      "/Users/jbobin/Documents/Python/LENA_DEVL/Toolbox/BSS/pyGMCALab/pyGMCA/bss/rgmca/FunBetaD.py:168: RuntimeWarning: overflow encountered in cosh\n",
      "  result=c/(np.cosh(z))\n"
     ]
    },
    {
     "name": "stdout",
     "output_type": "stream",
     "text": [
      "Beta-div.: current best result:  0.0016822649908 at beta= 0.005+ 0.002* 1 in  77  iterations\n",
      "Beta-div.: current best result:  0.00135480617714 at beta= 0.005+ 0.002* 2 in  10  iterations\n",
      "Beta-div.: current best result:  0.001226278966 at beta= 0.005+ 0.002* 3 in  10  iterations\n",
      "Beta-div.: current best result:  0.00116524196408 at beta= 0.005+ 0.002* 4 in  10  iterations\n",
      "exit at  4 th index\n",
      "Errors beta-div.:  0.0 recovered columns,  0.00116524196408  for DeltaA\n",
      "Start for the  2 th parameter\n",
      "Start for the  1 th job\n",
      "Errors AMCA:  8.0 recovered columns,  0.000127229865527  for DeltaA\n",
      "Errors GMCA:  0.0 recovered columns,  0.224600723834  for DeltaA\n",
      "rAMCA terminates in  2  iterations\n",
      "Errors rAMCA:  8.0 recovered columns,  0.000125579205228  for DeltaA\n",
      "rGMCA terminates in  5  iterations\n",
      "Errors rGMCA:  8.0 recovered columns,  0.000362985094201  for DeltaA\n",
      "PCP+GMCA, current best error: 0.20622926592 at index 0 th index in  136 iterations\n",
      "PCP+GMCA, current best error: 0.0670522229833 at index 3 th index in  248 iterations\n",
      "PCP+GMCA, current best error: 0.0157525735319 at index 4 th index in  191 iterations\n",
      "PCP+GMCA, current best error: 0.00460129088887 at index 5 th index in  145 iterations\n",
      "PCP+GMCA, current best error: 0.00108408183336 at index 6 th index in  118 iterations\n",
      "PCP+GMCA, current best error: 0.000544719684335 at index 7 th index in  184 iterations\n",
      "Errors PCP+GMCA:  8.0 recovered columns,  0.000544719684335  for DeltaA\n",
      "Beta-div.: current best result:  0.0444246388561 at beta= 0.005+ 0.002* 1 in  78  iterations\n",
      "Beta-div.: current best result:  0.00771789518599 at beta= 0.005+ 0.002* 2 in  19  iterations\n",
      "Beta-div.: current best result:  0.00615297861829 at beta= 0.005+ 0.002* 3 in  10  iterations\n",
      "Beta-div.: current best result:  0.00592642292038 at beta= 0.005+ 0.002* 4 in  10  iterations\n",
      "exit at  5 th index\n",
      "Errors beta-div.:  0.0 recovered columns,  0.00592642292038  for DeltaA\n",
      "Start for the  3 th parameter\n",
      "Start for the  1 th job\n",
      "Errors AMCA:  8.0 recovered columns,  0.000133364850963  for DeltaA\n",
      "Errors GMCA:  0.0 recovered columns,  0.114665401563  for DeltaA\n",
      "rAMCA terminates in  3  iterations\n",
      "Errors rAMCA:  8.0 recovered columns,  0.000128199732033  for DeltaA\n",
      "rGMCA terminates in  5  iterations\n",
      "Errors rGMCA:  8.0 recovered columns,  0.000475309787229  for DeltaA\n",
      "PCP+GMCA, current best error: 0.230696076794 at index 0 th index in  121 iterations\n",
      "PCP+GMCA, current best error: 0.0473218115136 at index 3 th index in  207 iterations\n",
      "PCP+GMCA, current best error: 0.0114995765655 at index 4 th index in  158 iterations\n",
      "PCP+GMCA, current best error: 0.00264054994822 at index 5 th index in  204 iterations\n",
      "PCP+GMCA, current best error: 0.00226175432263 at index 6 th index in  267 iterations\n"
     ]
    },
    {
     "ename": "KeyboardInterrupt",
     "evalue": "",
     "output_type": "error",
     "traceback": [
      "\u001b[0;31m---------------------------------------------------------------------------\u001b[0m",
      "\u001b[0;31mKeyboardInterrupt\u001b[0m                         Traceback (most recent call last)",
      "\u001b[0;32m<ipython-input-3-bcfe8ba26bdc>\u001b[0m in \u001b[0;36m<module>\u001b[0;34m()\u001b[0m\n\u001b[1;32m     64\u001b[0m         \u001b[0;31m#PCP+GMCA#\u001b[0m\u001b[0;34m\u001b[0m\u001b[0;34m\u001b[0m\u001b[0m\n\u001b[1;32m     65\u001b[0m \u001b[0;34m\u001b[0m\u001b[0m\n\u001b[0;32m---> 66\u001b[0;31m         \u001b[0mSest\u001b[0m\u001b[0;34m,\u001b[0m\u001b[0mAest\u001b[0m\u001b[0;34m,\u001b[0m\u001b[0mOfin\u001b[0m\u001b[0;34m=\u001b[0m\u001b[0mpcpGMCA\u001b[0m\u001b[0;34m(\u001b[0m\u001b[0mX\u001b[0m\u001b[0;34m,\u001b[0m\u001b[0mAori\u001b[0m\u001b[0;34m,\u001b[0m\u001b[0mS\u001b[0m\u001b[0;34m,\u001b[0m\u001b[0mA\u001b[0m\u001b[0;34m.\u001b[0m\u001b[0mcopy\u001b[0m\u001b[0;34m(\u001b[0m\u001b[0;34m)\u001b[0m\u001b[0;34m)\u001b[0m\u001b[0;34m\u001b[0m\u001b[0m\n\u001b[0m\u001b[1;32m     67\u001b[0m         \u001b[0mangle5P\u001b[0m\u001b[0;34m[\u001b[0m\u001b[0mindexParam\u001b[0m\u001b[0;34m,\u001b[0m \u001b[0mindexIte\u001b[0m\u001b[0;34m]\u001b[0m \u001b[0;34m,\u001b[0m\u001b[0mdeltaP\u001b[0m\u001b[0;34m[\u001b[0m\u001b[0mindexParam\u001b[0m\u001b[0;34m,\u001b[0m \u001b[0mindexIte\u001b[0m\u001b[0;34m]\u001b[0m \u001b[0;34m=\u001b[0m\u001b[0merrors\u001b[0m\u001b[0;34m(\u001b[0m\u001b[0mAest\u001b[0m\u001b[0;34m,\u001b[0m\u001b[0mSest\u001b[0m\u001b[0;34m,\u001b[0m\u001b[0mAori\u001b[0m\u001b[0;34m,\u001b[0m\u001b[0mS\u001b[0m\u001b[0;34m)\u001b[0m\u001b[0;34m\u001b[0m\u001b[0m\n\u001b[1;32m     68\u001b[0m         \u001b[0;32mif\u001b[0m \u001b[0mpS\u001b[0m\u001b[0;34m[\u001b[0m\u001b[0;34m'verbosePCP'\u001b[0m\u001b[0;34m]\u001b[0m\u001b[0;34m:\u001b[0m\u001b[0;34m\u001b[0m\u001b[0m\n",
      "\u001b[0;32m/Users/jbobin/Documents/Python/LENA_DEVL/Toolbox/BSS/pyGMCALab/pyGMCA/bss/rgmca/rpcaAlgo.pyc\u001b[0m in \u001b[0;36mpcpGMCA\u001b[0;34m(M, Aori, Sori, Aini)\u001b[0m\n\u001b[1;32m     71\u001b[0m                 \u001b[0mL_\u001b[0m\u001b[0;34m=\u001b[0m\u001b[0mL\u001b[0m\u001b[0;31m#low-rank\u001b[0m\u001b[0;34m\u001b[0m\u001b[0m\n\u001b[1;32m     72\u001b[0m \u001b[0;34m\u001b[0m\u001b[0m\n\u001b[0;32m---> 73\u001b[0;31m                 \u001b[0mL\u001b[0m\u001b[0;34m,\u001b[0m\u001b[0mS\u001b[0m\u001b[0;34m=\u001b[0m\u001b[0mupdateL\u001b[0m\u001b[0;34m(\u001b[0m\u001b[0mmu\u001b[0m\u001b[0;34m,\u001b[0m\u001b[0mM\u001b[0m\u001b[0;34m,\u001b[0m\u001b[0mO\u001b[0m\u001b[0;34m,\u001b[0m\u001b[0mY\u001b[0m\u001b[0;34m)\u001b[0m\u001b[0;31m# update of the low-rank term\u001b[0m\u001b[0;34m\u001b[0m\u001b[0m\n\u001b[0m\u001b[1;32m     74\u001b[0m                 \u001b[0mO\u001b[0m\u001b[0;34m=\u001b[0m\u001b[0mupdateO\u001b[0m\u001b[0;34m(\u001b[0m\u001b[0mLambda\u001b[0m\u001b[0;34m,\u001b[0m\u001b[0mmu\u001b[0m\u001b[0;34m,\u001b[0m\u001b[0mM\u001b[0m\u001b[0;34m,\u001b[0m\u001b[0mL\u001b[0m\u001b[0;34m,\u001b[0m\u001b[0mY\u001b[0m\u001b[0;34m)\u001b[0m \u001b[0;31m# update of the outliers\u001b[0m\u001b[0;34m\u001b[0m\u001b[0m\n\u001b[1;32m     75\u001b[0m                 \u001b[0mY\u001b[0m\u001b[0;34m=\u001b[0m\u001b[0mY\u001b[0m\u001b[0;34m+\u001b[0m\u001b[0mmu\u001b[0m\u001b[0;34m*\u001b[0m\u001b[0;34m(\u001b[0m\u001b[0mM\u001b[0m\u001b[0;34m-\u001b[0m\u001b[0mL\u001b[0m\u001b[0;34m-\u001b[0m\u001b[0mO\u001b[0m\u001b[0;34m)\u001b[0m \u001b[0;31m#update Y, the Lagrange multiplier  matrix\u001b[0m\u001b[0;34m\u001b[0m\u001b[0m\n",
      "\u001b[0;32m/Users/jbobin/Documents/Python/LENA_DEVL/Toolbox/BSS/pyGMCALab/pyGMCA/bss/rgmca/rpcaAlgo.pyc\u001b[0m in \u001b[0;36mupdateL\u001b[0;34m(mu, M, O, Y)\u001b[0m\n\u001b[1;32m    134\u001b[0m     \u001b[0mSinv\u001b[0m\u001b[0;34m=\u001b[0m\u001b[0mS\u001b[0m\u001b[0;34m.\u001b[0m\u001b[0mcopy\u001b[0m\u001b[0;34m(\u001b[0m\u001b[0;34m)\u001b[0m\u001b[0;34m\u001b[0m\u001b[0m\n\u001b[1;32m    135\u001b[0m     \u001b[0mSinv\u001b[0m\u001b[0;34m[\u001b[0m\u001b[0mS\u001b[0m\u001b[0;34m>\u001b[0m\u001b[0;36m0\u001b[0m\u001b[0;34m]\u001b[0m\u001b[0;34m=\u001b[0m\u001b[0;36m1.\u001b[0m\u001b[0;34m/\u001b[0m\u001b[0mS\u001b[0m\u001b[0;34m[\u001b[0m\u001b[0mS\u001b[0m\u001b[0;34m>\u001b[0m\u001b[0;36m0\u001b[0m\u001b[0;34m]\u001b[0m\u001b[0;34m\u001b[0m\u001b[0m\n\u001b[0;32m--> 136\u001b[0;31m     \u001b[0mV\u001b[0m\u001b[0;34m=\u001b[0m\u001b[0mSinv\u001b[0m\u001b[0;34m.\u001b[0m\u001b[0mT\u001b[0m\u001b[0;34m.\u001b[0m\u001b[0mdot\u001b[0m\u001b[0;34m(\u001b[0m\u001b[0mUT\u001b[0m\u001b[0;34m.\u001b[0m\u001b[0mdot\u001b[0m\u001b[0;34m(\u001b[0m\u001b[0mM\u001b[0m\u001b[0;34m-\u001b[0m\u001b[0mO\u001b[0m\u001b[0;34m+\u001b[0m\u001b[0mY\u001b[0m\u001b[0;34m*\u001b[0m\u001b[0;36m1.\u001b[0m\u001b[0;34m/\u001b[0m\u001b[0mmu\u001b[0m\u001b[0;34m)\u001b[0m\u001b[0;34m)\u001b[0m \u001b[0;31m#To perform the reconstruction of L\u001b[0m\u001b[0;34m\u001b[0m\u001b[0m\n\u001b[0m\u001b[1;32m    137\u001b[0m     \u001b[0mS\u001b[0m\u001b[0;34m=\u001b[0m\u001b[0msoftThres\u001b[0m\u001b[0;34m(\u001b[0m\u001b[0mS\u001b[0m\u001b[0;34m,\u001b[0m\u001b[0;36m1.\u001b[0m\u001b[0;34m/\u001b[0m\u001b[0;34m(\u001b[0m\u001b[0mmu\u001b[0m\u001b[0;34m)\u001b[0m\u001b[0;34m)\u001b[0m\u001b[0;31m# Threshold of the eigenvalue\u001b[0m\u001b[0;34m\u001b[0m\u001b[0m\n\u001b[1;32m    138\u001b[0m     \u001b[0mL\u001b[0m\u001b[0;34m=\u001b[0m\u001b[0mU\u001b[0m\u001b[0;34m.\u001b[0m\u001b[0mdot\u001b[0m\u001b[0;34m(\u001b[0m\u001b[0mS\u001b[0m\u001b[0;34m.\u001b[0m\u001b[0mdot\u001b[0m\u001b[0;34m(\u001b[0m\u001b[0mV\u001b[0m\u001b[0;34m)\u001b[0m\u001b[0;34m)\u001b[0m \u001b[0;31m# estimation of L\u001b[0m\u001b[0;34m\u001b[0m\u001b[0m\n",
      "\u001b[0;31mKeyboardInterrupt\u001b[0m: "
     ]
    }
   ],
   "source": [
    "\n",
    "for indexParam in range(0, pS['nbreParam']):#Varying parameters\n",
    "\n",
    "    if pS['verbose']:\n",
    "        print 'Start for the ', indexParam+1, 'th parameter'\n",
    "\n",
    "\n",
    "    #Set the varying parameter#\n",
    "    dS['nbCol']=(pS['param'][indexParam])/100.*dS['t']\n",
    "\n",
    "\n",
    "\n",
    "    for indexIte in range(0,pS['nbreIter']):\n",
    "        if pS['verbose']:\n",
    "            print 'Start for the ', indexIte+1, 'th job'\n",
    "\n",
    "        #Set the seed#\n",
    "        np.random.seed(numLancement+indexIte)\n",
    "\n",
    "        #Data generation#\n",
    "        S=sources(dS['n'],dS['t'],dS['pS'],dS['alphaS'],dS['ampliS'])#sources\n",
    "        Aori=mixingMatrix(dS['m'],dS['n'])#mixing matrix\n",
    "        X0=Aori.dot(S) #noiseless observations\n",
    "        N=gaussianNoise(dS['m'],dS['t'],dS['ampliN'])#Gaussian noise#\n",
    "        outL=outliers(dS['m'],dS['t'],dS['nbCol'],dS['alphaO'],dS['ampliO'])\n",
    "        X= X0+outL+N#Noisy observations\n",
    "\n",
    "        #Initializing mixing matrix#\n",
    "        norm=np.linalg.norm(X, axis=0)\n",
    "        perc=np.percentile(norm[norm>mad(norm)],50)#Do not trust the largest entries\n",
    "        X3=X.copy()\n",
    "        X3[:, norm>perc]=0\n",
    "        R = np.dot(X3,X3.T)\n",
    "        D,V = np.linalg.eig(R)\n",
    "        A = V[:,0:dS['n']] #Initial mixing matrix, normalized\n",
    "\n",
    "        #Calls of the algorithms#\n",
    "\n",
    "        #AMCA#\n",
    "        Sest,Aest=AMCA(X,A, amca=1)\n",
    "        angle5A[indexParam, indexIte] ,deltaA[indexParam, indexIte] =errors(Aest,Sest,Aori,S)\n",
    "        if pS['verboseAMCA']:\n",
    "            print 'Errors AMCA: ', angle5A[indexParam, indexIte]*dS['n'], 'recovered columns, ' ,deltaA[indexParam, indexIte] ,' for DeltaA'\n",
    "\n",
    "\n",
    "        #GMCA#\n",
    "        Sest,Aest=AMCA(X,A, amca=0)\n",
    "        angle5G[indexParam, indexIte] ,deltaG[indexParam, indexIte] =errors(Aest,Sest,Aori,S)\n",
    "        if pS['verboseGMCA']:\n",
    "            print 'Errors GMCA: ', angle5G[indexParam, indexIte]*dS['n'], 'recovered columns, ', deltaG[indexParam, indexIte] ,' for DeltaA'\n",
    "\n",
    "        #rAMCA#\n",
    "        Sest,Aest,Oest=rAMCA(X,A, amca=1)\n",
    "        angle5rA[indexParam, indexIte] ,deltarA[indexParam, indexIte] =errors(Aest,Sest,Aori,S)\n",
    "        if pS['verboserAMCA']:\n",
    "            print 'Errors rAMCA: ', angle5rA[indexParam, indexIte]*dS['n'], 'recovered columns, ', deltarA[indexParam, indexIte] ,' for DeltaA'\n",
    "\n",
    "        #rGMCA#\n",
    "        Sest,Aest,Oest=rGMCA(X,A)\n",
    "        angle5rG[indexParam, indexIte] ,deltarG[indexParam, indexIte] =errors(Aest,Sest,Aori,S)\n",
    "        if pS['verboserGMCA']:\n",
    "            print 'Errors rGMCA: ', angle5rG[indexParam, indexIte]*dS['n'], 'recovered columns, ', deltarG[indexParam, indexIte] ,' for DeltaA'\n",
    "\n",
    "        #PCP+GMCA#\n",
    "\n",
    "        Sest,Aest,Ofin=pcpGMCA(X,Aori,S,A.copy())\n",
    "        angle5P[indexParam, indexIte] ,deltaP[indexParam, indexIte] =errors(Aest,Sest,Aori,S)\n",
    "        if pS['verbosePCP']:\n",
    "            print 'Errors PCP+GMCA: ', angle5P[indexParam, indexIte]*dS['n'], 'recovered columns, ', deltaP[indexParam, indexIte] ,' for DeltaA'\n",
    "\n",
    "        #Beta-Div#\n",
    "        Sest,Aest=BetaD_ICA(X,Aori)\n",
    "        angle5B[indexParam, indexIte] ,deltaB[indexParam, indexIte] =errors(Aest,Sest,Aori,S)\n",
    "        if pS['verbosePCP']:\n",
    "            print 'Errors beta-div.: ', angle5B[indexParam, indexIte]*dS['n'], 'recovered columns, ', deltaB[indexParam, indexIte] ,' for DeltaA'\n"
   ]
  },
  {
   "cell_type": "markdown",
   "metadata": {},
   "source": [
    "### Saving the results"
   ]
  },
  {
   "cell_type": "code",
   "execution_count": null,
   "metadata": {},
   "outputs": [],
   "source": [
    "\n",
    "#Save the results#\n",
    "if pS['saveFile']==1:\n",
    "\n",
    "    fileObject=open(\"{}_{}\".format(pS['nameFile'],numLancement),'wb')\n",
    "\n",
    "    pickle.dump(angle5A,fileObject)\n",
    "    pickle.dump(deltaA,fileObject)\n",
    "\n",
    "    pickle.dump(angle5G,fileObject)\n",
    "    pickle.dump(deltaG,fileObject)\n",
    "\n",
    "    pickle.dump(angle5rA,fileObject)\n",
    "    pickle.dump(deltarA,fileObject)\n",
    "\n",
    "    pickle.dump(angle5rG,fileObject)\n",
    "    pickle.dump(deltarG,fileObject)\n",
    "\n",
    "    pickle.dump(angle5B,fileObject)\n",
    "    pickle.dump(deltaB,fileObject)\n",
    "\n",
    "    pickle.dump(angle5P,fileObject)\n",
    "    pickle.dump(deltaP,fileObject)\n",
    "\n",
    "\n",
    "    fileObject.close()\n"
   ]
  },
  {
   "cell_type": "markdown",
   "metadata": {},
   "source": [
    "### Display the results"
   ]
  },
  {
   "cell_type": "code",
   "execution_count": null,
   "metadata": {},
   "outputs": [],
   "source": [
    "if pS['plot']:\n",
    "    t=pS['param'][0:indexParam+1]\n",
    "\n",
    "\n",
    "    plt.figure(figsize=(8,8))\n",
    "    #Plot the mean#\n",
    "    ax1=plt.subplot2grid((10,1), (0,0), rowspan=5)\n",
    "    ax1.plot(t,np.mean(deltaA,1), label=r'AMCA', marker='x',markeredgewidth=2, markersize=8 )\n",
    "    ax1.plot(t,np.mean(deltaG,1), label=r'GMCA', marker='*', markersize=9)\n",
    "    ax1.plot(t,np.mean(deltarA,1),marker='o', label=r'rAMCA')\n",
    "    ax1.plot(t,np.mean(deltarG,1), label=r'rGMCA', marker='+',markeredgewidth=2, markersize=8 )\n",
    "    ax1.plot(t,np.mean(deltaB,1), label=r'$\\beta$-div.', marker='^',color='m')\n",
    "    ax1.plot(t,np.mean(deltaP,1), label=r'PCP+GMCA', marker='d', color='y')\n",
    "    plt.yscale('log')\n",
    "    plt.ylabel(r'Mean of $\\Delta_A$',fontsize=20)\n",
    "    ax1.set_xticklabels([])\n",
    "    ax1.legend(bbox_to_anchor=(0., 1.02, 1., .102), loc=3, ncol=3, mode=\"expand\", borderaxespad=0., fontsize=16)\n",
    "\n",
    "    #Plot the probability to recover A\n",
    "    ax2=plt.subplot2grid((10,1), (5,0), rowspan=5)\n",
    "    ax2.plot(t,np.array(np.sum(np.array(angle5A==1,int),1),float)/numberIter, marker='x',markeredgewidth=2, markersize=8 )\n",
    "    ax2.plot(t,np.array(np.sum(np.array(angle5G==1,int),1),float)/numberIter,  marker='*', markersize=9)\n",
    "    ax2.plot(t,np.array(np.sum(np.array(angle5rA==1,int),1),float)/numberIter,marker='o')\n",
    "    ax2.plot(t,np.array(np.sum(np.array(angle5rG==1,int),1),float)/numberIter,  marker='+',markeredgewidth=2, markersize=8 )\n",
    "    ax2.plot(t,np.array(np.sum(np.array(angle5B==1,int),1),float)/numberIter, marker='^',color='m')\n",
    "    ax2.plot(t,np.array(np.sum(np.array(angle5P==1,int),1),float)/numberIter, marker='d', color='y')\n",
    "    plt.ylim(-0.1,1.1)\n",
    "    plt.xlabel(r'Percentage of corrupted data',fontsize=20)\n",
    "    plt.ylabel(r'Recovered $A$',fontsize=20)\n",
    "    plt.show()\n"
   ]
  }
 ],
 "metadata": {
  "kernelspec": {
   "display_name": "Python 2",
   "language": "python",
   "name": "python2"
  },
  "language_info": {
   "codemirror_mode": {
    "name": "ipython",
    "version": 2
   },
   "file_extension": ".py",
   "mimetype": "text/x-python",
   "name": "python",
   "nbconvert_exporter": "python",
   "pygments_lexer": "ipython2",
   "version": "2.7.14"
  }
 },
 "nbformat": 4,
 "nbformat_minor": 2
}
