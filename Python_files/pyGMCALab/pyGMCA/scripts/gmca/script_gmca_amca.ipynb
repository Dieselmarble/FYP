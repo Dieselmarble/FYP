{
 "cells": [
  {
   "cell_type": "markdown",
   "metadata": {},
   "source": [
    "# Blind source separation with GMCA and AMCA\n",
    "### or how to do sparse BSS with partially correlated sources"
   ]
  },
  {
   "cell_type": "code",
   "execution_count": 34,
   "metadata": {},
   "outputs": [
    {
     "ename": "ModuleNotFoundError",
     "evalue": "No module named 'amca'",
     "output_type": "error",
     "traceback": [
      "\u001b[0;31m---------------------------------------------------------------------------\u001b[0m",
      "\u001b[0;31mModuleNotFoundError\u001b[0m                       Traceback (most recent call last)",
      "\u001b[0;32m<ipython-input-34-92a46e3b2a4a>\u001b[0m in \u001b[0;36m<module>\u001b[0;34m()\u001b[0m\n\u001b[1;32m      5\u001b[0m \u001b[0msys\u001b[0m\u001b[0;34m.\u001b[0m\u001b[0mpath\u001b[0m\u001b[0;34m.\u001b[0m\u001b[0minsert\u001b[0m\u001b[0;34m(\u001b[0m\u001b[0;36m1\u001b[0m\u001b[0;34m,\u001b[0m\u001b[0mPYGMCALAB_PATH\u001b[0m\u001b[0;34m)\u001b[0m\u001b[0;34m\u001b[0m\u001b[0m\n\u001b[1;32m      6\u001b[0m \u001b[0;32mfrom\u001b[0m \u001b[0mcommon\u001b[0m \u001b[0;32mimport\u001b[0m \u001b[0mutils\u001b[0m \u001b[0;32mas\u001b[0m \u001b[0mbu\u001b[0m\u001b[0;34m\u001b[0m\u001b[0m\n\u001b[0;32m----> 7\u001b[0;31m \u001b[0;32mfrom\u001b[0m \u001b[0mbss\u001b[0m\u001b[0;34m.\u001b[0m\u001b[0mamca\u001b[0m \u001b[0;32mimport\u001b[0m \u001b[0mamca\u001b[0m\u001b[0;34m\u001b[0m\u001b[0m\n\u001b[0m\u001b[1;32m      8\u001b[0m \u001b[0;32mfrom\u001b[0m \u001b[0mbss\u001b[0m\u001b[0;34m.\u001b[0m\u001b[0mgmca\u001b[0m \u001b[0;32mimport\u001b[0m \u001b[0mgmca\u001b[0m\u001b[0;34m\u001b[0m\u001b[0m\n\u001b[1;32m      9\u001b[0m \u001b[0;32mimport\u001b[0m \u001b[0mmatplotlib\u001b[0m\u001b[0;34m.\u001b[0m\u001b[0mpyplot\u001b[0m \u001b[0;32mas\u001b[0m \u001b[0mplt\u001b[0m\u001b[0;34m\u001b[0m\u001b[0m\n",
      "\u001b[0;32m~/Documents/FYP/Python_files/pyGMCALab/pyGMCA/bss/amca/amca.py\u001b[0m in \u001b[0;36m<module>\u001b[0;34m()\u001b[0m\n\u001b[1;32m     40\u001b[0m \"\"\"\n\u001b[1;32m     41\u001b[0m \u001b[0;34m\u001b[0m\u001b[0m\n\u001b[0;32m---> 42\u001b[0;31m \u001b[0;32mfrom\u001b[0m \u001b[0mpyGMCA\u001b[0m\u001b[0;34m.\u001b[0m\u001b[0mcommon\u001b[0m\u001b[0;34m.\u001b[0m\u001b[0mutils\u001b[0m \u001b[0;32mimport\u001b[0m \u001b[0mrandperm\u001b[0m\u001b[0;34m\u001b[0m\u001b[0m\n\u001b[0m\u001b[1;32m     43\u001b[0m \u001b[0;32mfrom\u001b[0m \u001b[0mpyGMCA\u001b[0m\u001b[0;34m.\u001b[0m\u001b[0mcommon\u001b[0m\u001b[0;34m.\u001b[0m\u001b[0mutils\u001b[0m \u001b[0;32mimport\u001b[0m \u001b[0mmad\u001b[0m\u001b[0;34m\u001b[0m\u001b[0m\n\u001b[1;32m     44\u001b[0m \u001b[0;34m\u001b[0m\u001b[0m\n",
      "\u001b[0;32m~/Documents/FYP/Python_files/pyGMCALab/pyGMCA/__init__.py\u001b[0m in \u001b[0;36m<module>\u001b[0;34m()\u001b[0m\n\u001b[1;32m     42\u001b[0m \u001b[0;34m\u001b[0m\u001b[0m\n\u001b[1;32m     43\u001b[0m \u001b[0;32mimport\u001b[0m \u001b[0mcommon\u001b[0m\u001b[0;34m\u001b[0m\u001b[0m\n\u001b[0;32m---> 44\u001b[0;31m \u001b[0;32mimport\u001b[0m \u001b[0mbss\u001b[0m\u001b[0;34m\u001b[0m\u001b[0m\n\u001b[0m",
      "\u001b[0;32m~/Documents/FYP/Python_files/pyGMCALab/pyGMCA/bss/__init__.py\u001b[0m in \u001b[0;36m<module>\u001b[0;34m()\u001b[0m\n\u001b[1;32m     41\u001b[0m \u001b[0;31m# __license__ = \"CeCill\"\u001b[0m\u001b[0;34m\u001b[0m\u001b[0;34m\u001b[0m\u001b[0m\n\u001b[1;32m     42\u001b[0m \u001b[0;34m\u001b[0m\u001b[0m\n\u001b[0;32m---> 43\u001b[0;31m \u001b[0;32mimport\u001b[0m \u001b[0mamca\u001b[0m\u001b[0;34m\u001b[0m\u001b[0m\n\u001b[0m\u001b[1;32m     44\u001b[0m \u001b[0;32mimport\u001b[0m \u001b[0mgmca\u001b[0m\u001b[0;34m\u001b[0m\u001b[0m\n\u001b[1;32m     45\u001b[0m \u001b[0;32mimport\u001b[0m \u001b[0mrgmca\u001b[0m\u001b[0;34m\u001b[0m\u001b[0m\n",
      "\u001b[0;31mModuleNotFoundError\u001b[0m: No module named 'amca'"
     ]
    }
   ],
   "source": [
    "# Useful packages\n",
    "\n",
    "import sys\n",
    "PYGMCALAB_PATH = \"/Users/kevin/Documents/FYP/Python_files/pyGMCALab\"\n",
    "sys.path.insert(1,PYGMCALAB_PATH)\n",
    "from common import utils as bu\n",
    "from bss.amca import amca\n",
    "from bss.gmca import gmca\n",
    "import matplotlib.pyplot as plt\n",
    "import numpy as np\n",
    "\n",
    "%matplotlib inline\n",
    "import matplotlib.pyplot as plt\n",
    "font = {'family' : 'normal',\n",
    "        'weight' : 'bold',\n",
    "        'size'   : 12}\n",
    "plt.rcParams[\"figure.figsize\"] = (20,10)\n",
    "plt.rc('font', **font)\n",
    "\n",
    "N_MC = 10 # Number of Monte-Carlo simulations"
   ]
  },
  {
   "cell_type": "markdown",
   "metadata": {},
   "source": [
    "### Good things to know about the GMCA and AMCA algorithms\n",
    "\n",
    "Both algorithms basically run as follows:\n",
    "\n",
    "Rg = gmca.GMCA(X0,n=n) or Ra = amca.AMCA(X0,n=n)\n",
    "\n",
    "Where:\n",
    "\n",
    "    - X0 is a m x t matrix, that is composed of m observations of t samples; should already be expressed in the sparse domain\n",
    "    - n is the number of sources to be estimated\n",
    "    \n",
    "The output is a dictionary with entries:\n",
    "\n",
    "    - \"sources\" is the n x t matrix of estimated sources\n",
    "    - \"mixmat\" is the m x n mixing matrix\n",
    "    - \"weights\" : for AMCA, these are the estimated sample weights\n",
    "    \n",
    "Extra parameters are:\n",
    "\n",
    "    - UseP : thresholding strategy\n",
    "           > 0 is the standard k-mad threshold \n",
    "           > 1 is based on the support of the estimated sources, which is increased at each iteration\n",
    "           > 2 same as 1 but adapted to very sparse sources (e.g. spiky sources)\n",
    "    - maxts : initial value of k for UseP = 0\n",
    "    - mints : final value of k\n",
    "    - nmax : number of iterations\n",
    "    - L0 : if set to 1, implements a hard rather than soft-thresholding\n",
    "    - q_f (in AMCA) : final weight parameter\n",
    "    - Aposit : if set to True, imposes the positivity of the mixing matrix\n",
    "    - BlockSize : block size in case a block-based optimization is performed\n",
    "    - NoiseStd : vector of noise std per observation\n",
    "    - IndNoise : vectors of indices that indicates which samples are used to estimate the noise level\n",
    "    - Kmax : max L0 norm for the sources\n",
    "    - AInit : initial point for A\n",
    "    - Init : is set to 0, random initialization; if 1, PCA-based\n",
    "    - tol : upper limit on the stopping criterion\n"
   ]
  },
  {
   "cell_type": "markdown",
   "metadata": {},
   "source": [
    "## Comparing GMCA and AMCA when sparsity is enforced in the sample domain\n",
    "### Evolution of the mixing matrix criterion when the sparsity level varies"
   ]
  },
  {
   "cell_type": "code",
   "execution_count": null,
   "metadata": {},
   "outputs": [],
   "source": [
    "n = 4\n",
    "m = 4\n",
    "t = 2048\n",
    "p1 = 0.1\n",
    "sigma1 = 4\n",
    "pval = np.power(10,np.linspace(-2,-0.7,5))\n",
    "#\n",
    "C_G_sparse_level = np.zeros((5,N_MC))\n",
    "C_A_sparse_level = np.zeros((5,N_MC))\n",
    "#\n",
    "for It_MC in range(0,N_MC):\n",
    "    for R_p in range(0,5):\n",
    "        p = pval[R_p]\n",
    "        X,X0,A0,S0,N,sigma_noise,kern = bu.Make_Experiment_Coherent(n_s=n,n_obs=m,t_samp=t,w=0.1,noise_level=120,dynamic=0,sigma1=sigma1,p1=p1,ptot=p)\n",
    "        Rg = gmca.GMCA(X0,n=n,mints=0,nmax=500,L0=0,UseP=1)\n",
    "        crit = bu.EvalCriterion(A0,S0,Rg[\"mixmat\"],Rg[\"sources\"])\n",
    "        C_G_sparse_level[R_p,It_MC] = crit[\"ca_med\"]\n",
    "        Ra = amca.AMCA(X0,n,mints=0,nmax=500,q_f = 0.1,L0=1,UseP=1)\n",
    "        crit = bu.EvalCriterion(A0,S0,Ra[\"mixmat\"],Ra[\"sources\"])\n",
    "        C_A_sparse_level[R_p,It_MC] = crit[\"ca_med\"]\n",
    "#\n",
    "#%% PLOTTING THE RESULTS\n",
    "plt.figure(0)\n",
    "pval = np.power(10,np.linspace(-2,-0.7,5))\n",
    "plt.title('Mixing matrix criterion as a function of the sparsity level')\n",
    "tempG = np.median(C_G_sparse_level,1)\n",
    "tempA = np.median(C_A_sparse_level,1)\n",
    "Mrange = 5.**np.max([np.max(tempA),np.max(tempG)])\n",
    "mrange = 0.2*np.min([np.min(tempA),np.min(tempG)])\n",
    "plt.semilogy(pval,tempG,'k8',alpha=0.75)\n",
    "plt.semilogy(pval,tempA,'ro',alpha=0.75)\n",
    "plt.axis([0,1.1*np.max(pval), mrange,Mrange])\n",
    "plt.xlabel(\"Sparsity level\")\n",
    "plt.ylabel(\"Median mixing matrix criterion\")"
   ]
  },
  {
   "cell_type": "markdown",
   "metadata": {},
   "source": [
    "### Evolution of the mixing matrix criterion when the correlation level varies"
   ]
  },
  {
   "cell_type": "code",
   "execution_count": null,
   "metadata": {},
   "outputs": [],
   "source": [
    "n = 4\n",
    "m = 4\n",
    "t =2048\n",
    "p1 = 0.1\n",
    "sigma1 = 4\n",
    "p = 0.05\n",
    "pval = np.power(10,np.linspace(-2,np.log10(0.95),10))\n",
    "#\n",
    "C_G_corr_level = np.zeros((10,N_MC))\n",
    "C_A_corr_level = np.zeros((10,N_MC))\n",
    "#\n",
    "for It_MC in range(0,N_MC):\n",
    "    for R_p in range(0,10):\n",
    "        p1 = pval[R_p]\n",
    "        X,X0,A0,S0,N,sigma_noise,kern = bu.Make_Experiment_Coherent(n_s=n,n_obs=m,t_samp=t,w=0.1,noise_level=120,dynamic=0,sigma1=sigma1,p1=p1,ptot=p)\n",
    "        Rg = gmca.GMCA(X0,n=n,mints=0,nmax=500,L0=0,UseP=1)\n",
    "        crit = bu.EvalCriterion(A0,S0,Rg[\"mixmat\"],Rg[\"sources\"])\n",
    "        C_G_corr_level[R_p,It_MC] = crit[\"ca_med\"]\n",
    "        Ra = amca.AMCA(X0,n,mints=0,nmax=500,q_f = 0.1,L0=1,UseP=1)\n",
    "        crit = bu.EvalCriterion(A0,S0,Ra[\"mixmat\"],Ra[\"sources\"])\n",
    "        C_A_corr_level[R_p,It_MC] = crit[\"ca_med\"]\n",
    "#\n",
    "#%% PLOTTING THE RESULTS\n",
    "plt.figure(1)\n",
    "pval = np.power(10,np.linspace(-2,np.log10(0.95),10))\n",
    "plt.title('Mixing matrix criterion as a function of the correlation level')\n",
    "tempG = np.median(C_G_corr_level,1)\n",
    "tempA = np.median(C_A_corr_level,1)\n",
    "Mrange = 5.**np.max([np.max(tempA),np.max(tempG)])\n",
    "mrange = 0.2*np.min([np.min(tempA),np.min(tempG)])\n",
    "plt.semilogy(pval,tempG,'k8',alpha=0.75)\n",
    "plt.semilogy(pval,tempA,'ro',alpha=0.75)\n",
    "plt.axis([0,1.1*np.max(pval), mrange,Mrange])\n",
    "plt.xlabel(\"Correlation level\")\n",
    "plt.ylabel(\"Median mixing matrix criterion\")"
   ]
  },
  {
   "cell_type": "markdown",
   "metadata": {},
   "source": [
    "### Evolution of the mixing matrix criterion when the dynamic range varies"
   ]
  },
  {
   "cell_type": "code",
   "execution_count": null,
   "metadata": {},
   "outputs": [],
   "source": [
    "n = 4\n",
    "m = 4\n",
    "t = 2048\n",
    "p1 = 0.3\n",
    "sigma1 = 4\n",
    "p = 0.1\n",
    "pval = np.linspace(0,4,10)\n",
    "#\n",
    "C_G_dyn_level = np.zeros((10,N_MC))\n",
    "C_A_dyn_level = np.zeros((10,N_MC))\n",
    "#\n",
    "for It_MC in range(0,N_MC):\n",
    "    for R_p in range(0,10):\n",
    "        dyna = pval[R_p]\n",
    "        X,X0,A0,S0,N,sigma_noise,kern = bu.Make_Experiment_Coherent(n_s=n,n_obs=m,t_samp=t,w=0.1,noise_level=120,dynamic=dyna,sigma1=sigma1,p1=p1,ptot=p)\n",
    "        Rg = gmca.GMCA(X0,n=n,mints=0,nmax=500,L0=0,UseP=1)\n",
    "        crit = bu.EvalCriterion(A0,S0,Rg[\"mixmat\"],Rg[\"sources\"])\n",
    "        C_G_dyn_level[R_p,It_MC] = crit[\"ca_med\"]\n",
    "        Ra = amca.AMCA(X0,n,mints=0,nmax=500,q_f = 0.1,L0=1,UseP=1)\n",
    "        crit = bu.EvalCriterion(A0,S0,Ra[\"mixmat\"],Ra[\"sources\"])\n",
    "        C_A_dyn_level[R_p,It_MC] = crit[\"ca_med\"]\n",
    "#\n",
    "#%% PLOTTING THE RESULTS\n",
    "plt.figure(2)\n",
    "pval = np.linspace(0,6,10)\n",
    "plt.title('Mixing matrix criterion as a function of the dynamic')\n",
    "tempG = np.median(C_G_dyn_level,1)\n",
    "tempA = np.median(C_A_dyn_level,1)\n",
    "Mrange = 5.**np.max([np.max(tempA),np.max(tempG)])\n",
    "mrange = 0.2*np.min([np.min(tempA),np.min(tempG)])\n",
    "plt.semilogy(pval,tempG,'k8',alpha=0.75)\n",
    "plt.semilogy(pval,tempA,'ro',alpha=0.75)\n",
    "plt.axis([0,1.1*np.max(pval), mrange,Mrange])\n",
    "plt.xlabel(\"Dynamic range\")\n",
    "plt.ylabel(\"Median mixing matrix criterion\")"
   ]
  }
 ],
 "metadata": {
  "kernelspec": {
   "display_name": "Python 3",
   "language": "python",
   "name": "python3"
  },
  "language_info": {
   "codemirror_mode": {
    "name": "ipython",
    "version": 3
   },
   "file_extension": ".py",
   "mimetype": "text/x-python",
   "name": "python",
   "nbconvert_exporter": "python",
   "pygments_lexer": "ipython3",
   "version": "3.6.4"
  }
 },
 "nbformat": 4,
 "nbformat_minor": 2
}
