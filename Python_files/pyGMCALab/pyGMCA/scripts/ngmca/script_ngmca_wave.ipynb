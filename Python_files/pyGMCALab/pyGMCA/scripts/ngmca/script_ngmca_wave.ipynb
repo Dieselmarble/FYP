{
 "cells": [
  {
   "cell_type": "markdown",
   "metadata": {},
   "source": [
    "# Sparse NMF with nGMCA in transformed domains"
   ]
  },
  {
   "cell_type": "code",
   "execution_count": null,
   "metadata": {},
   "outputs": [],
   "source": [
    "# Useful packages\n",
    "\n",
    "import sys\n",
    "PYGMCALAB_PATH = \"PLEASE INSERT THE PATH OF THE PYGMCALab FOLDER\"\n",
    "sys.path.insert(1,PYGMCALAB_PATH)\n",
    "\n",
    "import numpy as np\n",
    "import matplotlib.pyplot as plt\n",
    "\n",
    "from pyGMCA.bss.ngmca import base as bss\n",
    "from redwave_toolbox.pyredwave import RedWave # Should be fixed\n",
    "\n",
    "%matplotlib inline\n",
    "import matplotlib.pyplot as plt\n",
    "font = {'family' : 'normal',\n",
    "        'weight' : 'bold',\n",
    "        'size'   : 12}\n",
    "plt.rcParams[\"figure.figsize\"] = (20,10)\n",
    "plt.rc('font', **font)"
   ]
  },
  {
   "cell_type": "markdown",
   "metadata": {},
   "source": [
    "### Create the data"
   ]
  },
  {
   "cell_type": "code",
   "execution_count": null,
   "metadata": {},
   "outputs": [],
   "source": [
    "np.random.seed(33) #32\n",
    "data_settings= {'rows': 4,\n",
    "                'rank': 2,\n",
    "                'dB': 20,\n",
    "                'width': 8}\n",
    "reference = bss.tools.create_realistic_nmr_mixtures(data_settings)\n",
    "Y = reference['data'] + reference['noise']\n",
    "lambda_rec = lambda data: np.max(data['S_updater'].lambdas)\n",
    "criteria_rec = lambda data: bss.tools.evaluation(data, reference)[0]\n",
    "plt.plot(Y.T)"
   ]
  },
  {
   "cell_type": "markdown",
   "metadata": {},
   "source": [
    "### NGMCA WITH WAVELET SPARSE UPDATES\n",
    "Analysis and synthesis nGMCA in this version, the update of S is replaced so as to use wavelet sparsity. \n",
    "The updater requires the redwave instance. Both analysis and synthesis formulations can be used"
   ]
  },
  {
   "cell_type": "code",
   "execution_count": null,
   "metadata": {},
   "outputs": [],
   "source": [
    "wave = RedWave(Y, 1)\n",
    "wY = wave.forward(Y)\n",
    "plt.plot(wY.T)\n",
    "\n",
    "\n",
    "alg = bss.ngmca.Framework()\n",
    "parameters = {'data': Y,\n",
    "              'rank': data_settings['rank'],\n",
    "              'verbose': 1,\n",
    "              'maximum_iteration': 300,\n",
    "              'S_updater': bss.ngmca.updaters.RedWaveUpdater(tau_mad=2,\n",
    "                  redwave_operator=wave, formulation=\"synthesis\"),\n",
    "              'A_updater': bss.ngmca.SparseUpdater(tau_mad=0),\n",
    "              'recording_functions': {'lambda': lambda_rec,\n",
    "                                      'criteria': criteria_rec}}\n",
    "parameters['display_function'] = lambda data: plt.plot(data['factorization'].S.T)\n",
    "parameters['display_time'] = 1\n",
    "\n",
    "np.random.seed(58)\n",
    "result_ana = alg.run(parameters)\n",
    "crit = bss.tools.evaluation(result_ana, reference, True)[0]\n",
    "\n",
    "\n",
    "# %% standard version of nGMCA for comparison (see example ngmca)\n",
    "alg = bss.ngmca.Framework()\n",
    "parameters = {'data': Y,\n",
    "              'rank': data_settings['rank'],\n",
    "              'verbose': 1,\n",
    "              'maximum_iteration': 300,\n",
    "              'S_updater': bss.ngmca.SparseUpdater(tau_mad=2),\n",
    "              'A_updater': bss.ngmca.SparseUpdater(tau_mad=0),\n",
    "              'recording_functions': {'lambda': lambda_rec,\n",
    "                                      'criteria': criteria_rec}}\n",
    "parameters['display_function'] = lambda data: plt.plot(data['factorization'].S.T)\n",
    "parameters['display_time'] = 1\n",
    "\n",
    "np.random.seed(58)\n",
    "result = alg.run(parameters)\n",
    "crit = bss.tools.evaluation(result, reference, True)[0]"
   ]
  },
  {
   "cell_type": "code",
   "execution_count": null,
   "metadata": {},
   "outputs": [],
   "source": [
    "### Displaying the results"
   ]
  },
  {
   "cell_type": "code",
   "execution_count": null,
   "metadata": {},
   "outputs": [],
   "source": [
    "plt.clf()\n",
    "plt.plot(result_ana['recording']['SDR_S'])\n",
    "plt.plot(result['recording']['SDR_S'])\n",
    "\n",
    "\n",
    "\n",
    "# %% FOR STAND ALONE USE OF THE UPDATERS\n",
    "# %% analysis/synthesis updater\n",
    "wave = RedWave(Y, 1)\n",
    "wY = wave.forward(Y)\n",
    "plt.plot(wY.T)\n",
    "A = reference['factorization'].A\n",
    "S = reference['factorization'].S\n",
    "updater = bss.ngmca.RedWaveUpdater(tau_mad=2,\n",
    "    redwave_operator=wave, formulation=\"synthesis\")\n",
    "lambdas = np.ones((S.shape[0], wY.shape[1])) * np.max(S) * 1\n",
    "S_syn = updater.process(Y, A, S, lambdas)\n",
    "plt.clf()\n",
    "plt.plot(S_syn.T)\n",
    "\n"
   ]
  },
  {
   "cell_type": "markdown",
   "metadata": {},
   "source": [
    "### DEALING WITH 2D SOURCES"
   ]
  },
  {
   "cell_type": "code",
   "execution_count": null,
   "metadata": {},
   "outputs": [],
   "source": [
    "# make image mixtures\n",
    "reference = bss.tools.create_image_mixtures(rows=16, dB=30)\n",
    "im_shape = (int(np.sqrt(reference[\"factorization\"].S.shape[1])),) * 2\n",
    "bss.tools.show_images(reference[\"factorization\"].S, shape=im_shape)\n",
    "\n",
    "# make data\n",
    "Y = reference['data'] + reference['noise']\n",
    "bss.tools.show_images(Y, shape=im_shape)\n",
    "\n",
    "# useful functions\n",
    "lambda_rec = lambda data: np.max(data['S_updater'].lambdas)\n",
    "criteria_rec = lambda data: bss.tools.evaluation(data, reference)[0]\n",
    "\n",
    "# wavelets\n",
    "wave = RedWave(Y.reshape([Y.shape[0]] + list(im_shape)), (2, 1))\n",
    "wS = wave.forward(reference[\"factorization\"].S.reshape([4] + list(im_shape)))\n",
    "bss.tools.show_images(wS)  # show reference images in the wavelet domain\n",
    "\n",
    "# transformation between lines and standard shapes\n",
    "# line to shape\n",
    "l2s = lambda data: data.reshape([data.shape[0]] + list(im_shape))\n",
    "# shape to line\n",
    "s2l = lambda data: data.reshape([data.shape[0], np.prod(data.shape[1:])])\n",
    "\n",
    "# function which modifies S and the data before the update of A:\n",
    "# in order to go to the wavelet domain and remove the coarse scale\n",
    "# (this helps the separation)\n",
    "modifier = lambda S: s2l(wave.remove_coarse_scales(wave.forward(l2s(S)),\n",
    "                                                   inplace=True))\n",
    "\n",
    "alg = bss.ngmca.Framework()\n",
    "parameters = {'data': Y,\n",
    "              'rank': 4,\n",
    "              'verbose': 1,\n",
    "              'maximum_iteration': 120,\n",
    "              'S_updater': bss.ngmca.updaters.RedWaveUpdater(tau_mad=2,\n",
    "                  redwave_operator=wave, formulation=\"analysis\",\n",
    "                  direct_sparsity=False, reweighted_l1=3),\n",
    "              'A_updater': bss.ngmca.SparseUpdater(tau_mad=0,\n",
    "                                                  modifier=modifier),\n",
    "              'recording_functions': {'lambda': lambda_rec,\n",
    "                                      'criteria': criteria_rec}}\n",
    "parameters['display_function'] =\\\n",
    "    lambda data: bss.tools.show_images(data['factorization'].S, 0, im_shape)\n",
    "parameters['display_time'] = 1\n",
    "\n",
    "np.random.seed(58)\n",
    "result_ana_2D = alg.run(parameters)\n",
    "crit = bss.tools.evaluation(result_ana_2D, reference, True)[0]\n",
    "# to make this faster: improve the _update_lambda function so as to\n",
    "# compute the standard deviation on a subset of the data at each\n",
    "# iteration."
   ]
  }
 ],
 "metadata": {
  "kernelspec": {
   "display_name": "Python 2",
   "language": "python",
   "name": "python2"
  },
  "language_info": {
   "codemirror_mode": {
    "name": "ipython",
    "version": 2
   },
   "file_extension": ".py",
   "mimetype": "text/x-python",
   "name": "python",
   "nbconvert_exporter": "python",
   "pygments_lexer": "ipython2",
   "version": "2.7.14"
  }
 },
 "nbformat": 4,
 "nbformat_minor": 2
}
